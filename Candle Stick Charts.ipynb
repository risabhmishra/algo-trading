{
 "cells": [
  {
   "cell_type": "code",
   "execution_count": null,
   "id": "900ed439",
   "metadata": {},
   "outputs": [],
   "source": [
    "pip install --upgrade mplfinance"
   ]
  },
  {
   "cell_type": "code",
   "execution_count": null,
   "id": "446fb96f",
   "metadata": {},
   "outputs": [],
   "source": [
    "import matplotlib.pyplot as plt\n",
    "from mpl_finance import candlestick_ohlc\n",
    "import matplotlib.dates as mdates\n",
    "import pandas as pd\n",
    "import datetime as dt\n",
    "\n",
    "# Sample data for candlestick chart (date, open, high, low, close)\n",
    "data = [\n",
    "    [mdates.date2num(dt.datetime(2023, 1, 1)), 100, 110, 95, 105],\n",
    "    [mdates.date2num(dt.datetime(2023, 1, 2)), 105, 115, 100, 112],\n",
    "    [mdates.date2num(dt.datetime(2023, 1, 3)), 112, 118, 108, 115],\n",
    "    # Add more data...\n",
    "]\n",
    "\n",
    "# Convert data to a DataFrame\n",
    "df = pd.DataFrame(data, columns=['date', 'open', 'high', 'low', 'close'])\n",
    "\n",
    "# Create a subplot\n",
    "fig, ax = plt.subplots()\n",
    "\n",
    "# Plot candlestick chart\n",
    "candlestick_ohlc(ax, df.values, width=0.6, colorup='g', colordown='r', alpha=0.8)\n",
    "\n",
    "# Format x-axis as dates\n",
    "ax.xaxis_date()\n",
    "ax.xaxis.set_major_formatter(mdates.DateFormatter('%Y-%m-%d'))\n",
    "plt.xticks(rotation=45)\n",
    "\n",
    "# Highlight specific points for pattern recognition\n",
    "# For example, let's add an arrow to indicate a Hammer pattern\n",
    "ax.annotate('Hammer', xy=(mdates.date2num(dt.datetime(2023, 1, 2)), 105),\n",
    "            xytext=(20, -40), textcoords='offset points',\n",
    "            arrowprops=dict(arrowstyle=\"->\", color='blue'))\n",
    "\n",
    "# Set labels and title\n",
    "ax.set_xlabel('Date')\n",
    "ax.set_ylabel('Price')\n",
    "ax.set_title('Candlestick Chart with Patterns')\n",
    "\n",
    "plt.show()\n"
   ]
  },
  {
   "cell_type": "code",
   "execution_count": null,
   "id": "67d60826",
   "metadata": {},
   "outputs": [],
   "source": []
  },
  {
   "cell_type": "code",
   "execution_count": null,
   "id": "08bad6e4",
   "metadata": {},
   "outputs": [],
   "source": [
    "!pip3 install vectorbt"
   ]
  },
  {
   "cell_type": "code",
   "execution_count": null,
   "id": "8d06b676",
   "metadata": {},
   "outputs": [],
   "source": [
    "!pip3 install TA-Lib"
   ]
  },
  {
   "cell_type": "code",
   "execution_count": 1,
   "id": "e6e91a68",
   "metadata": {},
   "outputs": [
    {
     "name": "stdout",
     "output_type": "stream",
     "text": [
      "[*********************100%***********************]  1 of 1 completed\n",
      "                                 Open        High         Low       Close  \\\n",
      "Datetime                                                                    \n",
      "2023-08-07 09:30:00-04:00  182.130005  183.130005  178.210098  179.035004   \n",
      "2023-08-07 10:30:00-04:00  179.029999  179.309998  177.559998  177.770004   \n",
      "2023-08-07 11:30:00-04:00  177.764999  178.830002  177.350006  178.365005   \n",
      "2023-08-07 12:30:00-04:00  178.365005  178.470001  177.740005  178.335007   \n",
      "2023-08-07 13:30:00-04:00  178.339996  179.039993  178.050003  178.449997   \n",
      "2023-08-07 14:30:00-04:00  178.470001  178.710007  178.220001  178.480103   \n",
      "2023-08-07 15:30:00-04:00  178.485001  179.220001  178.389999  178.800003   \n",
      "2023-08-08 09:30:00-04:00  179.419998  179.465698  177.580002  179.179993   \n",
      "2023-08-08 10:30:00-04:00  179.190002  179.220001  177.934998  178.039993   \n",
      "2023-08-08 11:30:00-04:00  178.039993  178.804993  177.824997  178.690002   \n",
      "2023-08-08 12:30:00-04:00  178.679993  179.479996  178.580002  178.893295   \n",
      "2023-08-08 13:30:00-04:00  178.889999  179.419998  178.699997  179.160004   \n",
      "2023-08-08 14:30:00-04:00  179.169998  179.940002  179.039993  179.809998   \n",
      "2023-08-08 15:30:00-04:00  179.815002  180.270004  179.554993  179.800003   \n",
      "2023-08-09 09:30:00-04:00  180.360001  180.419998  178.139999  178.699905   \n",
      "2023-08-09 10:30:00-04:00  178.691498  178.835007  177.009995  177.479996   \n",
      "2023-08-09 11:30:00-04:00  177.470001  178.110001  177.240005  178.005005   \n",
      "2023-08-09 12:30:00-04:00  178.000000  178.770004  177.990005  178.660004   \n",
      "2023-08-09 13:30:00-04:00  178.658997  179.360001  178.552994  179.294998   \n",
      "2023-08-09 14:30:00-04:00  179.294998  179.589996  178.789093  179.029999   \n",
      "2023-08-09 15:30:00-04:00  179.029999  179.089996  177.990005  178.179993   \n",
      "2023-08-10 09:30:00-04:00  179.479996  180.750000  178.860001  180.100006   \n",
      "2023-08-10 10:30:00-04:00  180.139999  180.139999  180.139999  180.139999   \n",
      "\n",
      "                            Adj Close    Volume  \n",
      "Datetime                                         \n",
      "2023-08-07 09:30:00-04:00  179.035004  33752946  \n",
      "2023-08-07 10:30:00-04:00  177.770004  14565264  \n",
      "2023-08-07 11:30:00-04:00  178.365005   9796158  \n",
      "2023-08-07 12:30:00-04:00  178.335007   7158027  \n",
      "2023-08-07 13:30:00-04:00  178.449997   7271723  \n",
      "2023-08-07 14:30:00-04:00  178.480103   5824274  \n",
      "2023-08-07 15:30:00-04:00  178.800003  10179669  \n",
      "2023-08-08 09:30:00-04:00  179.179993  21892224  \n",
      "2023-08-08 10:30:00-04:00  178.039993   8911585  \n",
      "2023-08-08 11:30:00-04:00  178.690002   5710443  \n",
      "2023-08-08 12:30:00-04:00  178.893295   6004228  \n",
      "2023-08-08 13:30:00-04:00  179.160004   4572073  \n",
      "2023-08-08 14:30:00-04:00  179.809998   6486734  \n",
      "2023-08-08 15:30:00-04:00  179.800003   8031483  \n",
      "2023-08-09 09:30:00-04:00  178.699905  12630855  \n",
      "2023-08-09 10:30:00-04:00  177.479996   9507753  \n",
      "2023-08-09 11:30:00-04:00  178.005005   6732462  \n",
      "2023-08-09 12:30:00-04:00  178.660004   4980367  \n",
      "2023-08-09 13:30:00-04:00  179.294998   5273087  \n",
      "2023-08-09 14:30:00-04:00  179.029999   5760641  \n",
      "2023-08-09 15:30:00-04:00  178.179993   6307783  \n",
      "2023-08-10 09:30:00-04:00  180.100006  12459999  \n",
      "2023-08-10 10:30:00-04:00  180.139999         0  \n"
     ]
    }
   ],
   "source": [
    "import pandas as pd\n",
    "import yfinance as yf\n",
    "from datetime import datetime, timedelta\n",
    "\n",
    "end_time = datetime.now()\n",
    "start_time = end_time - timedelta(days = 5)\n",
    "\n",
    "# Yfinance doesn't have great minute data\n",
    "data = yf.download(\n",
    "        \"AAPL\", \n",
    "        start=start_time, \n",
    "        end=end_time,\n",
    "        interval=\"1h\")\n",
    "\n",
    "print(data)"
   ]
  },
  {
   "cell_type": "code",
   "execution_count": null,
   "id": "41e92875",
   "metadata": {},
   "outputs": [],
   "source": [
    "!python3.10 -m pip install --upgrade pip"
   ]
  },
  {
   "cell_type": "code",
   "execution_count": 1,
   "id": "ab95075b",
   "metadata": {},
   "outputs": [
    {
     "name": "stdout",
     "output_type": "stream",
     "text": [
      "1.22.1\n"
     ]
    }
   ],
   "source": [
    "import numpy as np\n",
    "print(np.__version__)\n",
    "# !pip uninstall -y numpy\n",
    "# !pip3 install numpy"
   ]
  },
  {
   "cell_type": "code",
   "execution_count": 2,
   "id": "5215e34c",
   "metadata": {},
   "outputs": [
    {
     "ename": "ImportError",
     "evalue": "numpy.core.multiarray failed to import",
     "output_type": "error",
     "traceback": [
      "\u001b[0;31m---------------------------------------------------------------------------\u001b[0m",
      "\u001b[0;31mRuntimeError\u001b[0m                              Traceback (most recent call last)",
      "File \u001b[0;32m__init__.pxd:942\u001b[0m, in \u001b[0;36mnumpy.import_array\u001b[0;34m()\u001b[0m\n",
      "\u001b[0;31mRuntimeError\u001b[0m: module compiled against API version 0x10 but this version of numpy is 0xf",
      "\nDuring handling of the above exception, another exception occurred:\n",
      "\u001b[0;31mImportError\u001b[0m                               Traceback (most recent call last)",
      "Cell \u001b[0;32mIn[2], line 1\u001b[0m\n\u001b[0;32m----> 1\u001b[0m \u001b[38;5;28;01mimport\u001b[39;00m \u001b[38;5;21;01mtalib\u001b[39;00m\n\u001b[1;32m      2\u001b[0m hammer \u001b[38;5;241m=\u001b[39m talib\u001b[38;5;241m.\u001b[39mCDLHAMMER(data\u001b[38;5;241m.\u001b[39mOpen, data\u001b[38;5;241m.\u001b[39mHigh, data\u001b[38;5;241m.\u001b[39mLow, data\u001b[38;5;241m.\u001b[39mClose)\n",
      "File \u001b[0;32m/opt/homebrew/lib/python3.10/site-packages/talib/__init__.py:93\u001b[0m\n\u001b[1;32m     89\u001b[0m \u001b[38;5;28;01melse\u001b[39;00m:\n\u001b[1;32m     90\u001b[0m     _wrapper \u001b[38;5;241m=\u001b[39m \u001b[38;5;28;01mlambda\u001b[39;00m x: x\n\u001b[0;32m---> 93\u001b[0m \u001b[38;5;28;01mfrom\u001b[39;00m \u001b[38;5;21;01m.\u001b[39;00m\u001b[38;5;21;01m_ta_lib\u001b[39;00m \u001b[38;5;28;01mimport\u001b[39;00m (\n\u001b[1;32m     94\u001b[0m     _ta_initialize, _ta_shutdown, MA_Type, __ta_version__,\n\u001b[1;32m     95\u001b[0m     _ta_set_unstable_period \u001b[38;5;28;01mas\u001b[39;00m set_unstable_period,\n\u001b[1;32m     96\u001b[0m     _ta_get_unstable_period \u001b[38;5;28;01mas\u001b[39;00m get_unstable_period,\n\u001b[1;32m     97\u001b[0m     _ta_set_compatibility \u001b[38;5;28;01mas\u001b[39;00m set_compatibility,\n\u001b[1;32m     98\u001b[0m     _ta_get_compatibility \u001b[38;5;28;01mas\u001b[39;00m get_compatibility,\n\u001b[1;32m     99\u001b[0m     __TA_FUNCTION_NAMES__\n\u001b[1;32m    100\u001b[0m )\n\u001b[1;32m    102\u001b[0m \u001b[38;5;66;03m# import all the func and stream functions\u001b[39;00m\n\u001b[1;32m    103\u001b[0m \u001b[38;5;28;01mfrom\u001b[39;00m \u001b[38;5;21;01m.\u001b[39;00m\u001b[38;5;21;01m_ta_lib\u001b[39;00m \u001b[38;5;28;01mimport\u001b[39;00m \u001b[38;5;241m*\u001b[39m\n",
      "File \u001b[0;32mtalib/_func.pxi:15\u001b[0m, in \u001b[0;36minit talib._ta_lib\u001b[0;34m()\u001b[0m\n",
      "File \u001b[0;32m__init__.pxd:944\u001b[0m, in \u001b[0;36mnumpy.import_array\u001b[0;34m()\u001b[0m\n",
      "\u001b[0;31mImportError\u001b[0m: numpy.core.multiarray failed to import"
     ]
    }
   ],
   "source": [
    "import talib\n",
    "hammer = talib.CDLHAMMER(data.Open, data.High, data.Low, data.Close)"
   ]
  },
  {
   "cell_type": "code",
   "execution_count": null,
   "id": "a29e5218",
   "metadata": {},
   "outputs": [],
   "source": []
  }
 ],
 "metadata": {
  "kernelspec": {
   "display_name": "Python 3 (ipykernel)",
   "language": "python",
   "name": "python3"
  },
  "language_info": {
   "codemirror_mode": {
    "name": "ipython",
    "version": 3
   },
   "file_extension": ".py",
   "mimetype": "text/x-python",
   "name": "python",
   "nbconvert_exporter": "python",
   "pygments_lexer": "ipython3",
   "version": "3.10.9"
  }
 },
 "nbformat": 4,
 "nbformat_minor": 5
}
